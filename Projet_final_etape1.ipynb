{
 "cells": [
  {
   "cell_type": "code",
   "execution_count": 4,
   "id": "917d9bca-9a6a-472e-8e4e-1f5aa626e3cc",
   "metadata": {},
   "outputs": [],
   "source": [
    "import pandas as pd "
   ]
  },
  {
   "cell_type": "code",
   "execution_count": 5,
   "id": "c040ffd2-c0b6-4cf3-b0d3-868ee6406ffd",
   "metadata": {},
   "outputs": [],
   "source": [
    "df = pd.read_csv(\"raw_data.csv\", low_memory=False , compression = 'gzip')"
   ]
  },
  {
   "cell_type": "code",
   "execution_count": 7,
   "id": "ffd66deb-6544-431f-9d25-b6679aca0686",
   "metadata": {},
   "outputs": [
    {
     "data": {
      "text/html": [
       "<div>\n",
       "<style scoped>\n",
       "    .dataframe tbody tr th:only-of-type {\n",
       "        vertical-align: middle;\n",
       "    }\n",
       "\n",
       "    .dataframe tbody tr th {\n",
       "        vertical-align: top;\n",
       "    }\n",
       "\n",
       "    .dataframe thead th {\n",
       "        text-align: right;\n",
       "    }\n",
       "</style>\n",
       "<table border=\"1\" class=\"dataframe\">\n",
       "  <thead>\n",
       "    <tr style=\"text-align: right;\">\n",
       "      <th></th>\n",
       "      <th>ts</th>\n",
       "      <th>number</th>\n",
       "      <th>pick_lat</th>\n",
       "      <th>pick_lng</th>\n",
       "      <th>drop_lat</th>\n",
       "      <th>drop_lng</th>\n",
       "    </tr>\n",
       "  </thead>\n",
       "  <tbody>\n",
       "    <tr>\n",
       "      <th>0</th>\n",
       "      <td>2020-03-26 07:07:17</td>\n",
       "      <td>14626</td>\n",
       "      <td>12.313621</td>\n",
       "      <td>76.658195</td>\n",
       "      <td>12.287301</td>\n",
       "      <td>76.602280</td>\n",
       "    </tr>\n",
       "    <tr>\n",
       "      <th>1</th>\n",
       "      <td>2020-03-26 07:32:27</td>\n",
       "      <td>85490</td>\n",
       "      <td>12.943947</td>\n",
       "      <td>77.560745</td>\n",
       "      <td>12.954014</td>\n",
       "      <td>77.543770</td>\n",
       "    </tr>\n",
       "    <tr>\n",
       "      <th>2</th>\n",
       "      <td>2020-03-26 07:36:44</td>\n",
       "      <td>05408</td>\n",
       "      <td>12.899603</td>\n",
       "      <td>77.587300</td>\n",
       "      <td>12.934780</td>\n",
       "      <td>77.569950</td>\n",
       "    </tr>\n",
       "    <tr>\n",
       "      <th>3</th>\n",
       "      <td>2020-03-26 07:38:00</td>\n",
       "      <td>58940</td>\n",
       "      <td>12.918229</td>\n",
       "      <td>77.607544</td>\n",
       "      <td>12.968971</td>\n",
       "      <td>77.636375</td>\n",
       "    </tr>\n",
       "    <tr>\n",
       "      <th>4</th>\n",
       "      <td>2020-03-26 07:39:29</td>\n",
       "      <td>05408</td>\n",
       "      <td>12.899490</td>\n",
       "      <td>77.587270</td>\n",
       "      <td>12.934780</td>\n",
       "      <td>77.569950</td>\n",
       "    </tr>\n",
       "  </tbody>\n",
       "</table>\n",
       "</div>"
      ],
      "text/plain": [
       "                    ts number   pick_lat   pick_lng   drop_lat   drop_lng\n",
       "0  2020-03-26 07:07:17  14626  12.313621  76.658195  12.287301  76.602280\n",
       "1  2020-03-26 07:32:27  85490  12.943947  77.560745  12.954014  77.543770\n",
       "2  2020-03-26 07:36:44  05408  12.899603  77.587300  12.934780  77.569950\n",
       "3  2020-03-26 07:38:00  58940  12.918229  77.607544  12.968971  77.636375\n",
       "4  2020-03-26 07:39:29  05408  12.899490  77.587270  12.934780  77.569950"
      ]
     },
     "execution_count": 7,
     "metadata": {},
     "output_type": "execute_result"
    }
   ],
   "source": [
    "df.head()"
   ]
  },
  {
   "cell_type": "code",
   "execution_count": 8,
   "id": "7f895dd1-596a-4f30-baa4-98a86220dd13",
   "metadata": {},
   "outputs": [
    {
     "name": "stdout",
     "output_type": "stream",
     "text": [
      "<class 'pandas.core.frame.DataFrame'>\n",
      "RangeIndex: 8381556 entries, 0 to 8381555\n",
      "Data columns (total 6 columns):\n",
      " #   Column    Dtype  \n",
      "---  ------    -----  \n",
      " 0   ts        object \n",
      " 1   number    object \n",
      " 2   pick_lat  float64\n",
      " 3   pick_lng  float64\n",
      " 4   drop_lat  float64\n",
      " 5   drop_lng  float64\n",
      "dtypes: float64(4), object(2)\n",
      "memory usage: 383.7+ MB\n"
     ]
    }
   ],
   "source": [
    "df.info()"
   ]
  },
  {
   "cell_type": "code",
   "execution_count": 9,
   "id": "aa013ad3-c447-449c-8e36-6dd5655a9fab",
   "metadata": {},
   "outputs": [],
   "source": [
    "df['ts']= pd.to_datetime(df['ts'])"
   ]
  },
  {
   "cell_type": "code",
   "execution_count": 14,
   "id": "dc09a231-5d4b-4f8f-88ba-268c4ddad6c9",
   "metadata": {},
   "outputs": [],
   "source": [
    "df['number'] = df['number'].astype(str).str.strip()"
   ]
  },
  {
   "cell_type": "code",
   "execution_count": 16,
   "id": "c99debe3-c1a7-4e20-a27f-2d34e29c8ac6",
   "metadata": {},
   "outputs": [],
   "source": [
    "df['number'] = pd.to_numeric(df['number'], errors='coerce')"
   ]
  },
  {
   "cell_type": "code",
   "execution_count": 17,
   "id": "73e6dd45-fd8d-40ea-8968-fdc6d42b4f7e",
   "metadata": {},
   "outputs": [],
   "source": [
    "df['number'] = df['number'].astype('Int64')"
   ]
  },
  {
   "cell_type": "code",
   "execution_count": 18,
   "id": "22533891-9a1f-4701-81c5-d9e0c5f02171",
   "metadata": {},
   "outputs": [
    {
     "name": "stdout",
     "output_type": "stream",
     "text": [
      "<class 'pandas.core.frame.DataFrame'>\n",
      "RangeIndex: 8381556 entries, 0 to 8381555\n",
      "Data columns (total 6 columns):\n",
      " #   Column    Dtype         \n",
      "---  ------    -----         \n",
      " 0   ts        datetime64[ns]\n",
      " 1   number    Int64         \n",
      " 2   pick_lat  float64       \n",
      " 3   pick_lng  float64       \n",
      " 4   drop_lat  float64       \n",
      " 5   drop_lng  float64       \n",
      "dtypes: Int64(1), datetime64[ns](1), float64(4)\n",
      "memory usage: 391.7 MB\n"
     ]
    }
   ],
   "source": [
    "df.info()"
   ]
  },
  {
   "cell_type": "code",
   "execution_count": 19,
   "id": "ad4092a2-eec0-4315-9e51-ec97b10caf69",
   "metadata": {},
   "outputs": [
    {
     "data": {
      "text/plain": [
       "ts            0\n",
       "number      121\n",
       "pick_lat      0\n",
       "pick_lng      0\n",
       "drop_lat      0\n",
       "drop_lng      0\n",
       "dtype: int64"
      ]
     },
     "execution_count": 19,
     "metadata": {},
     "output_type": "execute_result"
    }
   ],
   "source": [
    "df.isnull().sum()"
   ]
  },
  {
   "cell_type": "code",
   "execution_count": 22,
   "id": "21f4d097-16f6-45d5-8ae4-a8d007537e40",
   "metadata": {},
   "outputs": [],
   "source": [
    "df = df.dropna(subset=['number'])\n",
    "df['number'] = df['number'].astype(int)"
   ]
  },
  {
   "cell_type": "code",
   "execution_count": 23,
   "id": "ea403418-b496-485e-a13c-c6484c226c99",
   "metadata": {},
   "outputs": [
    {
     "data": {
      "text/plain": [
       "ts          0\n",
       "number      0\n",
       "pick_lat    0\n",
       "pick_lng    0\n",
       "drop_lat    0\n",
       "drop_lng    0\n",
       "dtype: int64"
      ]
     },
     "execution_count": 23,
     "metadata": {},
     "output_type": "execute_result"
    }
   ],
   "source": [
    "df.isnull().sum()"
   ]
  },
  {
   "cell_type": "code",
   "execution_count": null,
   "id": "8cc27c49-61fa-4897-a367-d1fc4970cdae",
   "metadata": {},
   "outputs": [],
   "source": [
    "Nous allons observer graphiquement les distributions , les valeurs aberrantes et les correlations des differentes variables "
   ]
  },
  {
   "cell_type": "code",
   "execution_count": 26,
   "id": "7a63f525-bc8f-4670-9c73-1c1452fa52c1",
   "metadata": {},
   "outputs": [],
   "source": [
    "# Boxplot \n",
    "\n",
    "numericals_cols = df.select_dtypes(include=['int64','float64']).columns\n",
    "categoricals_cols = df.select_dtypes(include=['object','category','bool']).columns\n"
   ]
  },
  {
   "cell_type": "code",
   "execution_count": 28,
   "id": "83d9a28a-df01-4d1c-a75b-49830a82c938",
   "metadata": {
    "scrolled": true
   },
   "outputs": [
    {
     "data": {
      "text/plain": [
       "<Figure size 1600x800 with 0 Axes>"
      ]
     },
     "metadata": {},
     "output_type": "display_data"
    },
    {
     "data": {
      "image/png": "[encoded data removed]",
      "text/plain": [
       "<Figure size 600x400 with 1 Axes>"
      ]
     },
     "metadata": {},
     "output_type": "display_data"
    },
    {
     "data": {
      "image/png": "[encoded data removed]",
      "text/plain": [
       "<Figure size 600x400 with 1 Axes>"
      ]
     },
     "metadata": {},
     "output_type": "display_data"
    },
    {
     "data": {
      "image/png": "[encoded data removed]",
      "text/plain": [
       "<Figure size 600x400 with 1 Axes>"
      ]
     },
     "metadata": {},
     "output_type": "display_data"
    },
    {
     "data": {
      "image/png": "[encoded data removed]",
      "text/plain": [
       "<Figure size 600x400 with 1 Axes>"
      ]
     },
     "metadata": {},
     "output_type": "display_data"
    }
   ],
   "source": [
    "import seaborn as sns\n",
    "import matplotlib.pyplot as plt \n",
    "\n",
    "plt.figure(figsize=(16,8))\n",
    "\n",
    "for col in numericals_cols :\n",
    "    plt.figure(figsize=(6,4))\n",
    "    sns.boxplot(x=df[col], color='skyblue')\n",
    "    plt.title(f\"Boxplot : {col}\")\n",
    "    plt.show()"
   ]
  },
  {
   "cell_type": "markdown",
   "id": "9620df2c-5a64-4d6b-b8c4-4d356fcfb2da",
   "metadata": {},
   "source": [
    "Nous avons avec les boxplots , les variables pick_lat , pick_lng , drop_lat , drop_lng qui montrent des asymetries et des valeurs aberrantes . Nous \n",
    "allons donc les corrigés afin d'avoir des modèles sans valeurs abérrantes pour un modèle efficace ."
   ]
  },
  {
   "cell_type": "code",
   "execution_count": 32,
   "id": "1bd820be-970d-4ae0-aa15-a70ead83f0fe",
   "metadata": {},
   "outputs": [
    {
     "name": "stdout",
     "output_type": "stream",
     "text": [
      "Nombre d'outliers de pick_lat  : 278290 \n",
      "Proportion des outliers de pick_lat est de  :3.3203%\n",
      "Nombre d'outliers de pick_lng  : 464152 \n",
      "Proportion des outliers de pick_lng est de  :5.5379%\n",
      "Nombre d'outliers de drop_lat  : 322019 \n",
      "Proportion des outliers de drop_lat est de  :3.8421%\n",
      "Nombre d'outliers de drop_lng  : 439922 \n",
      "Proportion des outliers de drop_lng est de  :5.2488%\n"
     ]
    }
   ],
   "source": [
    "\n",
    "for col in numericals_cols :\n",
    "    Q1 = df[col].quantile(0.25)\n",
    "    Q3 = df[col].quantile(0.75)\n",
    "\n",
    "    IQR = Q3 - Q1 \n",
    "    borne_inf = Q1 - 1.5*IQR\n",
    "    borne_sup = Q3 + 1.5*IQR\n",
    "    \n",
    "    outliers = df[(df[col]< borne_inf)|(df[col]> borne_sup)]\n",
    "\n",
    "    total = df[col].shape[0]\n",
    "    nb_outliers = outliers.shape[0]\n",
    "    proportion = nb_outliers/total\n",
    "\n",
    "    print(f\"Nombre d'outliers de {col}  : {len(outliers)} \")\n",
    "    print(f\"Proportion des outliers de {col} est de  :{proportion:.4%}\")"
   ]
  },
  {
   "cell_type": "code",
   "execution_count": null,
   "id": "ce2e62cb-a256-44ee-8ab4-af5ae49a657f",
   "metadata": {},
   "outputs": [],
   "source": [
    "Nous voyons ici que les valeurs aberrantes ont des proportions qui vont de 3 % à 6 % , des problèmes pas minimes mais pas trop alarmantes . Nous allons \n",
    "donc appliquer la Winzorisation ."
   ]
  },
  {
   "cell_type": "code",
   "execution_count": 33,
   "id": "eb16734d-a85c-4915-bef1-9aa633eb9227",
   "metadata": {},
   "outputs": [],
   "source": [
    "for col in numericals_cols :\n",
    "    Q1 = df[col].quantile(0.25)\n",
    "    Q3 = df[col].quantile(0.75)\n",
    "\n",
    "    IQR = Q3 - Q1 \n",
    "    borne_inf = Q1 - 1.5*IQR\n",
    "    borne_sup = Q3 + 1.5*IQR\n",
    "    \n",
    "    df[col] = df[col].apply(lambda x:borne_inf if x < borne_inf else (borne_sup if x > borne_sup else x ) )"
   ]
  },
  {
   "cell_type": "code",
   "execution_count": null,
   "id": "a68a8ac5-40c9-4409-b474-e3fbeed3797c",
   "metadata": {},
   "outputs": [],
   "source": [
    "Nous allons verifier la proportion encore "
   ]
  },
  {
   "cell_type": "code",
   "execution_count": 34,
   "id": "40b9425e-5f92-4579-ad8f-616f15141906",
   "metadata": {},
   "outputs": [
    {
     "name": "stdout",
     "output_type": "stream",
     "text": [
      "Nombre d'outliers de pick_lat  : 0 \n",
      "Proportion des outliers de pick_lat est de  :0.0000%\n",
      "Nombre d'outliers de pick_lng  : 0 \n",
      "Proportion des outliers de pick_lng est de  :0.0000%\n",
      "Nombre d'outliers de drop_lat  : 0 \n",
      "Proportion des outliers de drop_lat est de  :0.0000%\n",
      "Nombre d'outliers de drop_lng  : 0 \n",
      "Proportion des outliers de drop_lng est de  :0.0000%\n"
     ]
    }
   ],
   "source": [
    "for col in numericals_cols :\n",
    "    Q1 = df[col].quantile(0.25)\n",
    "    Q3 = df[col].quantile(0.75)\n",
    "\n",
    "    IQR = Q3 - Q1 \n",
    "    borne_inf = Q1 - 1.5*IQR\n",
    "    borne_sup = Q3 + 1.5*IQR\n",
    "    \n",
    "    outliers = df[(df[col]< borne_inf)|(df[col]> borne_sup)]\n",
    "\n",
    "    total = df[col].shape[0]\n",
    "    nb_outliers = outliers.shape[0]\n",
    "    proportion = nb_outliers/total\n",
    "\n",
    "    print(f\"Nombre d'outliers de {col}  : {len(outliers)} \")\n",
    "    print(f\"Proportion des outliers de {col} est de  :{proportion:.4%}\")"
   ]
  },
  {
   "cell_type": "code",
   "execution_count": null,
   "id": "41ba146f-16ec-43ab-af70-f2f42b5654ad",
   "metadata": {},
   "outputs": [],
   "source": [
    "## Nous allons passer aux correlations entre les variables "
   ]
  },
  {
   "cell_type": "code",
   "execution_count": 35,
   "id": "bb1f9263-4f93-4c22-8434-a3dbbf975191",
   "metadata": {},
   "outputs": [
    {
     "data": {
      "image/png": "[encoded data removed]",
      "text/plain": [
       "<Figure size 1000x800 with 2 Axes>"
      ]
     },
     "metadata": {},
     "output_type": "display_data"
    }
   ],
   "source": [
    "correlation_matrix = df.corr(numeric_only= True , method ='pearson')\n",
    "\n",
    "plt.figure(figsize=(10,8))\n",
    "sns.heatmap(correlation_matrix, annot=True , cmap = 'coolwarm', fmt='.2f', linewidths=0.5)\n",
    "plt.title(\"Matrice de correlation\")\n",
    "plt.show()"
   ]
  },
  {
   "cell_type": "markdown",
   "id": "adc4d96b-89b3-48eb-9d58-52389144fc0a",
   "metadata": {},
   "source": [
    "Nous observons une corrélation de 0.68 entre pick_lat et drop_lat :\n",
    "\n",
    "Cela signifie que plus la latitude de départ (pick_lat) est élevée, plus la latitude de destination (drop_lat) a tendance à l’être également.\n",
    "\n",
    "Nous observons également une corrélation de 0.73 entre pick_lng et drop_lng :\n",
    "\n",
    "Cela suggère qu’une augmentation de la longitude de départ est fortement associée à une augmentation de la longitude d’arrivée, de manière quasi \n",
    "proportionnelle.\n",
    "\n",
    "En revanche, la corrélation entre pick_lat et pick_lng est faible (0.11) :\n",
    "\n",
    "Il n’y a donc pas de lien linéaire significatif entre la latitude et la longitude de départ.\n",
    "\n",
    "De même, la corrélation entre pick_lat et drop_lng est également faible (0.12) :\n",
    "\n",
    "Cela indique une relation négligeable entre la latitude de départ et la longitude d’arrivée."
   ]
  },
  {
   "cell_type": "code",
   "execution_count": null,
   "id": "37259005-e5f3-45af-91af-8de6b3c4a57f",
   "metadata": {},
   "outputs": [],
   "source": [
    "## Comme indiqué dans le libéllé nous allons passer au regroupement selon une zone particulière et à un moment donner afin de pouvoir mettre en place \n",
    "notre modèle de prediction ."
   ]
  },
  {
   "cell_type": "code",
   "execution_count": null,
   "id": "3560fc08-05c4-4c7f-9f19-68eff6cf40f8",
   "metadata": {},
   "outputs": [],
   "source": [
    "# Nous allons regroupé le nombre de trajet en fonction d'une zone et d'un temps donné ."
   ]
  },
  {
   "cell_type": "code",
   "execution_count": 38,
   "id": "dcecdcfa-ea86-479e-a7cd-27441ccb8636",
   "metadata": {},
   "outputs": [],
   "source": [
    "df['pickup_hour'] = df['ts'].dt.hour"
   ]
  },
  {
   "cell_type": "code",
   "execution_count": 41,
   "id": "a5cf4d32-25e8-4653-9edf-7cd6479d086d",
   "metadata": {},
   "outputs": [],
   "source": [
    "# Nous allons pour l'occasion créer un autre Data Frame\n",
    "\n",
    "df_demand = df.groupby(['pickup_hour', 'pick_lat', 'pick_lng']) \\\n",
    "              .agg({'number': 'count'}) \\\n",
    "              .rename(columns={'number': 'nbre_de_course'}) \\\n",
    "              .reset_index()\n"
   ]
  },
  {
   "cell_type": "code",
   "execution_count": 51,
   "id": "b42d1c95-535c-4959-8ff4-8292599e15d8",
   "metadata": {},
   "outputs": [
    {
     "data": {
      "text/html": [
       "<div>\n",
       "<style scoped>\n",
       "    .dataframe tbody tr th:only-of-type {\n",
       "        vertical-align: middle;\n",
       "    }\n",
       "\n",
       "    .dataframe tbody tr th {\n",
       "        vertical-align: top;\n",
       "    }\n",
       "\n",
       "    .dataframe thead th {\n",
       "        text-align: right;\n",
       "    }\n",
       "</style>\n",
       "<table border=\"1\" class=\"dataframe\">\n",
       "  <thead>\n",
       "    <tr style=\"text-align: right;\">\n",
       "      <th></th>\n",
       "      <th>pickup_hour</th>\n",
       "      <th>pick_lat</th>\n",
       "      <th>pick_lng</th>\n",
       "      <th>nbre_de_course</th>\n",
       "    </tr>\n",
       "  </thead>\n",
       "  <tbody>\n",
       "    <tr>\n",
       "      <th>0</th>\n",
       "      <td>0</td>\n",
       "      <td>12.834173</td>\n",
       "      <td>77.520050</td>\n",
       "      <td>618</td>\n",
       "    </tr>\n",
       "    <tr>\n",
       "      <th>1</th>\n",
       "      <td>0</td>\n",
       "      <td>12.834173</td>\n",
       "      <td>77.587440</td>\n",
       "      <td>1</td>\n",
       "    </tr>\n",
       "    <tr>\n",
       "      <th>2</th>\n",
       "      <td>0</td>\n",
       "      <td>12.834173</td>\n",
       "      <td>77.634370</td>\n",
       "      <td>1</td>\n",
       "    </tr>\n",
       "    <tr>\n",
       "      <th>3</th>\n",
       "      <td>0</td>\n",
       "      <td>12.834173</td>\n",
       "      <td>77.649080</td>\n",
       "      <td>19</td>\n",
       "    </tr>\n",
       "    <tr>\n",
       "      <th>4</th>\n",
       "      <td>0</td>\n",
       "      <td>12.834173</td>\n",
       "      <td>77.655525</td>\n",
       "      <td>2</td>\n",
       "    </tr>\n",
       "  </tbody>\n",
       "</table>\n",
       "</div>"
      ],
      "text/plain": [
       "   pickup_hour   pick_lat   pick_lng  nbre_de_course\n",
       "0            0  12.834173  77.520050             618\n",
       "1            0  12.834173  77.587440               1\n",
       "2            0  12.834173  77.634370               1\n",
       "3            0  12.834173  77.649080              19\n",
       "4            0  12.834173  77.655525               2"
      ]
     },
     "execution_count": 51,
     "metadata": {},
     "output_type": "execute_result"
    }
   ],
   "source": [
    "df_demand.head()"
   ]
  },
  {
   "cell_type": "code",
   "execution_count": 50,
   "id": "7cd9770d-79d8-4026-bdeb-e1c0aca3ffbd",
   "metadata": {},
   "outputs": [
    {
     "data": {
      "text/html": [
       "<div>\n",
       "<style scoped>\n",
       "    .dataframe tbody tr th:only-of-type {\n",
       "        vertical-align: middle;\n",
       "    }\n",
       "\n",
       "    .dataframe tbody tr th {\n",
       "        vertical-align: top;\n",
       "    }\n",
       "\n",
       "    .dataframe thead th {\n",
       "        text-align: right;\n",
       "    }\n",
       "</style>\n",
       "<table border=\"1\" class=\"dataframe\">\n",
       "  <thead>\n",
       "    <tr style=\"text-align: right;\">\n",
       "      <th></th>\n",
       "      <th>ts</th>\n",
       "      <th>number</th>\n",
       "      <th>pick_lat</th>\n",
       "      <th>pick_lng</th>\n",
       "      <th>drop_lat</th>\n",
       "      <th>drop_lng</th>\n",
       "      <th>pickup_hour</th>\n",
       "    </tr>\n",
       "  </thead>\n",
       "  <tbody>\n",
       "    <tr>\n",
       "      <th>0</th>\n",
       "      <td>2020-03-26 07:07:17</td>\n",
       "      <td>14626</td>\n",
       "      <td>12.834173</td>\n",
       "      <td>77.520050</td>\n",
       "      <td>12.831056</td>\n",
       "      <td>77.511210</td>\n",
       "      <td>7</td>\n",
       "    </tr>\n",
       "    <tr>\n",
       "      <th>1</th>\n",
       "      <td>2020-03-26 07:32:27</td>\n",
       "      <td>85490</td>\n",
       "      <td>12.943947</td>\n",
       "      <td>77.560745</td>\n",
       "      <td>12.954014</td>\n",
       "      <td>77.543770</td>\n",
       "      <td>7</td>\n",
       "    </tr>\n",
       "    <tr>\n",
       "      <th>2</th>\n",
       "      <td>2020-03-26 07:36:44</td>\n",
       "      <td>5408</td>\n",
       "      <td>12.899603</td>\n",
       "      <td>77.587300</td>\n",
       "      <td>12.934780</td>\n",
       "      <td>77.569950</td>\n",
       "      <td>7</td>\n",
       "    </tr>\n",
       "    <tr>\n",
       "      <th>3</th>\n",
       "      <td>2020-03-26 07:38:00</td>\n",
       "      <td>58940</td>\n",
       "      <td>12.918229</td>\n",
       "      <td>77.607544</td>\n",
       "      <td>12.968971</td>\n",
       "      <td>77.636375</td>\n",
       "      <td>7</td>\n",
       "    </tr>\n",
       "    <tr>\n",
       "      <th>4</th>\n",
       "      <td>2020-03-26 07:39:29</td>\n",
       "      <td>5408</td>\n",
       "      <td>12.899490</td>\n",
       "      <td>77.587270</td>\n",
       "      <td>12.934780</td>\n",
       "      <td>77.569950</td>\n",
       "      <td>7</td>\n",
       "    </tr>\n",
       "  </tbody>\n",
       "</table>\n",
       "</div>"
      ],
      "text/plain": [
       "                   ts  number   pick_lat   pick_lng   drop_lat   drop_lng  \\\n",
       "0 2020-03-26 07:07:17   14626  12.834173  77.520050  12.831056  77.511210   \n",
       "1 2020-03-26 07:32:27   85490  12.943947  77.560745  12.954014  77.543770   \n",
       "2 2020-03-26 07:36:44    5408  12.899603  77.587300  12.934780  77.569950   \n",
       "3 2020-03-26 07:38:00   58940  12.918229  77.607544  12.968971  77.636375   \n",
       "4 2020-03-26 07:39:29    5408  12.899490  77.587270  12.934780  77.569950   \n",
       "\n",
       "   pickup_hour  \n",
       "0            7  \n",
       "1            7  \n",
       "2            7  \n",
       "3            7  \n",
       "4            7  "
      ]
     },
     "execution_count": 50,
     "metadata": {},
     "output_type": "execute_result"
    }
   ],
   "source": [
    "df.head()"
   ]
  },
  {
   "cell_type": "code",
   "execution_count": null,
   "id": "61e90061-ce27-4bd6-aea1-46ec4a509f98",
   "metadata": {},
   "outputs": [],
   "source": [
    "# Nous allons maintenant nous occuper des differentes restrictions "
   ]
  },
  {
   "cell_type": "code",
   "execution_count": 59,
   "id": "96ac7598-a94c-4bb0-9597-32718328bb7f",
   "metadata": {},
   "outputs": [],
   "source": [
    "# 1. Filtrer les demandes avec distance < 50 mètres (fraude)\n",
    "from geopy.distance import geodesic\n",
    "\n",
    "def calc_distance(row):\n",
    "    pickup = (row['pick_lat'], row['pick_lng'])\n",
    "    dropoff = (row['drop_lat'], row['drop_lng'])\n",
    "    return geodesic(pickup, dropoff).meters\n",
    "\n",
    "df['distance_m'] = df.apply(calc_distance, axis=1)\n",
    "\n",
    "df = df[df['distance_m'] >= 50].copy()\n"
   ]
  },
  {
   "cell_type": "code",
   "execution_count": 61,
   "id": "94e5580f-1bb8-4f00-b61f-5478cf834d06",
   "metadata": {},
   "outputs": [],
   "source": [
    "# 2. Appliquons la regle de moins des 8 minutes après la première demande toutes zones confondues \n",
    "\n",
    "# Trier\n",
    "df = df.sort_values('ts').reset_index(drop=True)\n",
    "\n",
    "# Initialiser last_valid_time à une date un peu avant la plus ancienne date du df\n",
    "last_valid_time = df['ts'].min() - pd.Timedelta(days=1)\n",
    "\n",
    "valid_indices = []\n",
    "\n",
    "for idx, current_time in enumerate(df['ts']):\n",
    "    if (current_time - last_valid_time) >= pd.Timedelta(minutes=8):\n",
    "        valid_indices.append(idx)\n",
    "        last_valid_time = current_time\n",
    "\n",
    "df_filtered = df.loc[valid_indices].reset_index(drop=True)\n"
   ]
  },
  {
   "cell_type": "code",
   "execution_count": null,
   "id": "1246fd0f-22e5-4a08-9727-4f4cf4e52306",
   "metadata": {},
   "outputs": [],
   "source": [
    "# 3. Appliquons la regle de meme zone au cours d'une heure "
   ]
  },
  {
   "cell_type": "code",
   "execution_count": 62,
   "id": "bb41a01c-5ad9-4cc6-b235-90722c4f69b0",
   "metadata": {},
   "outputs": [],
   "source": [
    "# Créer un identifiant de zone\n",
    "df['zone'] = list(zip(df['pick_lat'], df['pick_lng']))\n",
    "\n",
    "# Supprimer les doublons pour \"même zone + même heure\"\n",
    "df_unique = df.drop_duplicates(subset=['zone', 'pickup_hour'])\n"
   ]
  },
  {
   "cell_type": "code",
   "execution_count": 64,
   "id": "7489d9c3-e268-446f-b1e8-f80f8245620b",
   "metadata": {},
   "outputs": [
    {
     "data": {
      "text/html": [
       "<div>\n",
       "<style scoped>\n",
       "    .dataframe tbody tr th:only-of-type {\n",
       "        vertical-align: middle;\n",
       "    }\n",
       "\n",
       "    .dataframe tbody tr th {\n",
       "        vertical-align: top;\n",
       "    }\n",
       "\n",
       "    .dataframe thead th {\n",
       "        text-align: right;\n",
       "    }\n",
       "</style>\n",
       "<table border=\"1\" class=\"dataframe\">\n",
       "  <thead>\n",
       "    <tr style=\"text-align: right;\">\n",
       "      <th></th>\n",
       "      <th>ts</th>\n",
       "      <th>number</th>\n",
       "      <th>pick_lat</th>\n",
       "      <th>pick_lng</th>\n",
       "      <th>drop_lat</th>\n",
       "      <th>drop_lng</th>\n",
       "      <th>pickup_hour</th>\n",
       "      <th>distance_m</th>\n",
       "      <th>zone</th>\n",
       "    </tr>\n",
       "  </thead>\n",
       "  <tbody>\n",
       "    <tr>\n",
       "      <th>0</th>\n",
       "      <td>2020-03-26 01:23:31</td>\n",
       "      <td>35021</td>\n",
       "      <td>12.934723</td>\n",
       "      <td>77.615610</td>\n",
       "      <td>12.916122</td>\n",
       "      <td>77.61019</td>\n",
       "      <td>1</td>\n",
       "      <td>2140.229552</td>\n",
       "      <td>(12.934723, 77.61561)</td>\n",
       "    </tr>\n",
       "    <tr>\n",
       "      <th>1</th>\n",
       "      <td>2020-03-26 01:27:20</td>\n",
       "      <td>98185</td>\n",
       "      <td>12.962879</td>\n",
       "      <td>77.719140</td>\n",
       "      <td>12.930351</td>\n",
       "      <td>77.63338</td>\n",
       "      <td>1</td>\n",
       "      <td>9977.204702</td>\n",
       "      <td>(12.962879, 77.71914)</td>\n",
       "    </tr>\n",
       "    <tr>\n",
       "      <th>3</th>\n",
       "      <td>2020-03-26 01:27:29</td>\n",
       "      <td>90067</td>\n",
       "      <td>12.930832</td>\n",
       "      <td>77.612490</td>\n",
       "      <td>13.058285</td>\n",
       "      <td>77.68921</td>\n",
       "      <td>1</td>\n",
       "      <td>16373.394501</td>\n",
       "      <td>(12.930832, 77.61249000000002)</td>\n",
       "    </tr>\n",
       "    <tr>\n",
       "      <th>10</th>\n",
       "      <td>2020-03-26 01:28:11</td>\n",
       "      <td>90067</td>\n",
       "      <td>12.930996</td>\n",
       "      <td>77.612540</td>\n",
       "      <td>13.058285</td>\n",
       "      <td>77.68921</td>\n",
       "      <td>1</td>\n",
       "      <td>16355.012070</td>\n",
       "      <td>(12.930996, 77.61254)</td>\n",
       "    </tr>\n",
       "    <tr>\n",
       "      <th>11</th>\n",
       "      <td>2020-03-26 01:28:27</td>\n",
       "      <td>90067</td>\n",
       "      <td>12.930992</td>\n",
       "      <td>77.612526</td>\n",
       "      <td>13.058285</td>\n",
       "      <td>77.68921</td>\n",
       "      <td>1</td>\n",
       "      <td>16356.165587</td>\n",
       "      <td>(12.930992, 77.612526)</td>\n",
       "    </tr>\n",
       "  </tbody>\n",
       "</table>\n",
       "</div>"
      ],
      "text/plain": [
       "                    ts  number   pick_lat   pick_lng   drop_lat  drop_lng  \\\n",
       "0  2020-03-26 01:23:31   35021  12.934723  77.615610  12.916122  77.61019   \n",
       "1  2020-03-26 01:27:20   98185  12.962879  77.719140  12.930351  77.63338   \n",
       "3  2020-03-26 01:27:29   90067  12.930832  77.612490  13.058285  77.68921   \n",
       "10 2020-03-26 01:28:11   90067  12.930996  77.612540  13.058285  77.68921   \n",
       "11 2020-03-26 01:28:27   90067  12.930992  77.612526  13.058285  77.68921   \n",
       "\n",
       "    pickup_hour    distance_m                            zone  \n",
       "0             1   2140.229552           (12.934723, 77.61561)  \n",
       "1             1   9977.204702           (12.962879, 77.71914)  \n",
       "3             1  16373.394501  (12.930832, 77.61249000000002)  \n",
       "10            1  16355.012070           (12.930996, 77.61254)  \n",
       "11            1  16356.165587          (12.930992, 77.612526)  "
      ]
     },
     "execution_count": 64,
     "metadata": {},
     "output_type": "execute_result"
    }
   ],
   "source": [
    "df_unique.head()"
   ]
  },
  {
   "cell_type": "code",
   "execution_count": 65,
   "id": "24c4b774-1620-4911-9c15-b5b617371121",
   "metadata": {},
   "outputs": [],
   "source": [
    "df = df_filtered\n",
    "df = df_unique"
   ]
  },
  {
   "cell_type": "code",
   "execution_count": 67,
   "id": "91f860e4-150e-4461-9583-59a83dc951c8",
   "metadata": {},
   "outputs": [
    {
     "name": "stdout",
     "output_type": "stream",
     "text": [
      "<class 'pandas.core.frame.DataFrame'>\n",
      "Index: 4183057 entries, 0 to 8362420\n",
      "Data columns (total 9 columns):\n",
      " #   Column       Dtype         \n",
      "---  ------       -----         \n",
      " 0   ts           datetime64[ns]\n",
      " 1   number       int32         \n",
      " 2   pick_lat     float64       \n",
      " 3   pick_lng     float64       \n",
      " 4   drop_lat     float64       \n",
      " 5   drop_lng     float64       \n",
      " 6   pickup_hour  int32         \n",
      " 7   distance_m   float64       \n",
      " 8   zone         object        \n",
      "dtypes: datetime64[ns](1), float64(5), int32(2), object(1)\n",
      "memory usage: 287.2+ MB\n"
     ]
    }
   ],
   "source": [
    "df.info()"
   ]
  },
  {
   "cell_type": "code",
   "execution_count": null,
   "id": "a8bdd565-0e95-46dc-8860-a01864182674",
   "metadata": {},
   "outputs": [],
   "source": []
  }
 ],
 "metadata": {
  "kernelspec": {
   "display_name": "Python (projet_complet)",
   "language": "python",
   "name": "projet_complet"
  },
  "language_info": {
   "codemirror_mode": {
    "name": "ipython",
    "version": 3
   },
   "file_extension": ".py",
   "mimetype": "text/x-python",
   "name": "python",
   "nbconvert_exporter": "python",
   "pygments_lexer": "ipython3",
   "version": "3.10.18"
  }
 },
 "nbformat": 4,
 "nbformat_minor": 5
}
