{
 "cells": [
  {
   "cell_type": "markdown",
   "id": "6b4c5996-0f87-4064-ab09-cda667bfa981",
   "metadata": {},
   "source": [
    "# Definition du dataset Toy_dataset"
   ]
  },
  {
   "cell_type": "code",
   "execution_count": 1,
   "id": "6862cfaf-5990-4b93-b22e-d2a8a0ea1b7f",
   "metadata": {},
   "outputs": [],
   "source": [
    "toy_dataset = [\n",
    "    ['Skirt', 'Sneakers', 'Scarf', 'Pants', 'Hat'],\n",
    "    ['Sunglasses', 'Skirt', 'Sneakers', 'Pants', 'Hat'],\n",
    "    ['Dress', 'Sandals', 'Scarf', 'Pants', 'Heels'],\n",
    "    ['Dress', 'Necklace', 'Earrings', 'Scarf', 'Hat', 'Heels', 'Hat'],\n",
    "    ['Earrings', 'Skirt', 'Skirt', 'Scarf', 'Shirt', 'Pants']\n",
    "]\n"
   ]
  },
  {
   "cell_type": "markdown",
   "id": "253f8563-c9c9-46bc-89a2-b93924c8c2be",
   "metadata": {},
   "source": [
    "# Encodage des transactions"
   ]
  },
  {
   "cell_type": "code",
   "execution_count": 2,
   "id": "54b1e9d7-e317-4e0d-b3ed-27d8bbda43e3",
   "metadata": {},
   "outputs": [
    {
     "name": "stdout",
     "output_type": "stream",
     "text": [
      "Itemsets fréquents:\n",
      "   support        itemsets\n",
      "0      0.6           (Hat)\n",
      "1      0.8         (Pants)\n",
      "2      0.8         (Scarf)\n",
      "3      0.6         (Skirt)\n",
      "4      0.6  (Scarf, Pants)\n",
      "5      0.6  (Pants, Skirt)\n",
      "\n",
      "Règles d'association:\n",
      "  antecedents consequents  support  confidence    lift\n",
      "0     (Scarf)     (Pants)      0.6        0.75  0.9375\n",
      "1     (Pants)     (Scarf)      0.6        0.75  0.9375\n",
      "2     (Pants)     (Skirt)      0.6        0.75  1.2500\n",
      "3     (Skirt)     (Pants)      0.6        1.00  1.2500\n"
     ]
    }
   ],
   "source": [
    "import pandas as pd\n",
    "from mlxtend.preprocessing import TransactionEncoder\n",
    "from mlxtend.frequent_patterns import apriori, association_rules\n",
    "\n",
    "# Toy dataset\n",
    "toy_dataset = [['Skirt', 'Sneakers', 'Scarf', 'Pants', 'Hat'],\n",
    "               ['Sunglasses', 'Skirt', 'Sneakers', 'Pants', 'Hat'],\n",
    "               ['Dress', 'Sandals', 'Scarf', 'Pants', 'Heels'],\n",
    "               ['Dress', 'Necklace', 'Earrings', 'Scarf', 'Hat', 'Heels', 'Hat'],\n",
    "               ['Earrings', 'Skirt', 'Skirt', 'Scarf', 'Shirt', 'Pants']]\n",
    "\n",
    "# Transformer en one-hot encoding\n",
    "te = TransactionEncoder()\n",
    "te_ary = te.fit(toy_dataset).transform(toy_dataset)\n",
    "df = pd.DataFrame(te_ary, columns=te.columns_)\n",
    "\n",
    "# Appliquer apriori avec un support minimum (ex: 0.6)\n",
    "frequent_itemsets = apriori(df, min_support=0.6, use_colnames=True)\n",
    "\n",
    "print(\"Itemsets fréquents:\")\n",
    "print(frequent_itemsets)\n",
    "\n",
    "# Générer les règles avec confiance >= 0.7\n",
    "rules = association_rules(frequent_itemsets, metric=\"confidence\", min_threshold=0.7)\n",
    "\n",
    "print(\"\\nRègles d'association:\")\n",
    "print(rules[['antecedents', 'consequents', 'support', 'confidence', 'lift']])\n"
   ]
  },
  {
   "cell_type": "markdown",
   "id": "b7007aa4-0b1f-48af-90e6-48e0aa8321e0",
   "metadata": {},
   "source": [
    "(Scarf) ⇒ (Pants)\t0.60\t0.75\t0.94 , 75% des transactions contenant une écharpe contiennent aussi un pantalon.\n",
    " ! Mais le lift < 1 signifie que cette association est plus faible que le hasard, donc l’achat des deux ensemble n’est pas particulièrement significatif.\n",
    "Pants) ⇒ (Scarf)\t0.60\t0.75\t0.94 75% des transactions contenant un pantalon contiennent aussi une écharpe.\n",
    " ! Lift < 1 également, donc même analyse : association faible malgré la confiance.\n",
    "(Pants) ⇒ (Skirt)\t0.60\t0.75\t1.25 , 75% des acheteurs de pantalon achètent aussi une jupe.\n",
    " ! Le lift > 1 montre une association positive, les deux produits sont acheté ensemble plus souvent que par hasard.\n",
    "(Skirt) ⇒ (Pants)\t0.60\t1.00\t1.25 , 100% des acheteurs de jupe achètent aussi un pantalon.\n",
    " Confiance maximale (1.0) + lift > 1 : c’est une très forte règle d’association. Cela peut justifier une offre groupée ou un bundle."
   ]
  },
  {
   "cell_type": "markdown",
   "id": "258d62e7-036d-4ebd-9185-a402912a2e44",
   "metadata": {},
   "source": [
    "# Exploration de l'ensemble des données du checkpoint "
   ]
  },
  {
   "cell_type": "code",
   "execution_count": 12,
   "id": "6ae6f0fc-2f0b-4bc5-9677-ab93ff622f8b",
   "metadata": {},
   "outputs": [
    {
     "name": "stdout",
     "output_type": "stream",
     "text": [
      "📊 Règles d'association les plus fortes :\n",
      "\n",
      "                    antecedents    consequents  support  confidence   lift\n",
      "384  ground beef, mineral water      spaghetti    0.017       0.417  2.395\n",
      "342           eggs, ground beef  mineral water    0.010       0.507  2.126\n",
      "376           milk, ground beef  mineral water    0.011       0.503  2.110\n"
     ]
    }
   ],
   "source": [
    "#  Étape 1 : Importations\n",
    "import pandas as pd\n",
    "from mlxtend.preprocessing import TransactionEncoder\n",
    "from mlxtend.frequent_patterns import apriori, association_rules\n",
    "\n",
    "#  Étape 2 : Chargement et transformation des données\n",
    "df = pd.read_csv(\"Market_Basket_Optimisation.csv\", header=None)\n",
    "\n",
    "# Création de la liste des transactions\n",
    "transactions = []\n",
    "for i in range(df.shape[0]):\n",
    "    transactions.append([str(item).strip() for item in df.iloc[i] if pd.notna(item)])\n",
    "\n",
    "# Étape 3 : Encodage avec TransactionEncoder\n",
    "te = TransactionEncoder()\n",
    "te_ary = te.fit(transactions).transform(transactions)\n",
    "df_encoded = pd.DataFrame(te_ary, columns=te.columns_)\n",
    "\n",
    "# Étape 4 : Algorithme Apriori\n",
    "frequent_itemsets = apriori(df_encoded, min_support=0.01, use_colnames=True)\n",
    "\n",
    "#  Étape 5 : Génération des règles d'association\n",
    "rules = association_rules(frequent_itemsets, metric=\"lift\", min_threshold=1)\n",
    "\n",
    "#  Étape 6 : Filtrage et nettoyage pour affichage clair\n",
    "rules_filtered = rules[\n",
    "    (rules['lift'] > 2) & \n",
    "    (rules['confidence'] > 0.4) & \n",
    "    (rules['support'] > 0.01)\n",
    "].sort_values(by='lift', ascending=False)\n",
    "\n",
    "# Conversion frozenset → texte simple\n",
    "rules_filtered['antecedents'] = rules_filtered['antecedents'].apply(lambda x: ', '.join(list(x)))\n",
    "rules_filtered['consequents'] = rules_filtered['consequents'].apply(lambda x: ', '.join(list(x)))\n",
    "\n",
    "# Arrondir les métriques\n",
    "rules_filtered[['support', 'confidence', 'lift']] = rules_filtered[['support', 'confidence', 'lift']].round(3)\n",
    "\n",
    "#  Étape 7 : Affichage final des règles\n",
    "rules_display = rules_filtered[['antecedents', 'consequents', 'support', 'confidence', 'lift']]\n",
    "print(\" Règles d'association les plus fortes :\\n\")\n",
    "print(rules_display.head(10))\n"
   ]
  },
  {
   "cell_type": "markdown",
   "id": "ab3a4be9-88f9-4d2d-ba92-57141509f240",
   "metadata": {},
   "source": [
    "1. ground beef + mineral water → spaghetti\n",
    "Support : 1.7% des paniers.\n",
    "\n",
    "Confidence : 41.7% des clients qui achètent du bœuf haché et de l’eau minérale achètent aussi des spaghettis.\n",
    "\n",
    "Lift : 2.395 → Ils achètent spaghetti 2,4 fois plus souvent que par hasard.\n",
    "\n",
    " Interprétation :\n",
    "\n",
    "Ces trois produits semblent liés à la préparation d’un repas complet (plat de pâte + viande + boisson). Cela suggère qu’ils sont souvent achetés ensemble.\n",
    "\n",
    " Proposition :\n",
    "\n",
    "Mettre en avant un \"Pack repas familial\" : 1kg de spaghetti + 500g de bœuf + 2 bouteilles d’eau à prix réduit.\n",
    "\n",
    "2. eggs + ground beef → mineral water\n",
    "Support : 1.0% des paniers.\n",
    "\n",
    "Confidence : 50.7%\n",
    "\n",
    "Lift : 2.126\n",
    "\n",
    " Interprétation :\n",
    "\n",
    "Les clients qui prennent des œufs et du bœuf haché prennent très souvent aussi de l’eau minérale. On peut supposer qu’ils préparent un repas ou font leurs courses principales.\n",
    "\n",
    " Proposition :\n",
    "\n",
    "Créer un rayon “repas équilibré” combinant protéines animales + eau minérale. Éventuellement proposer des offres fidélité ciblées.\n",
    "\n",
    "3. milk + ground beef → mineral water\n",
    "Support : 1.1%\n",
    "\n",
    "Confidence : 50.3%\n",
    "\n",
    "Lift : 2.110\n",
    "\n",
    " Interprétation :\n",
    "\n",
    "Ici encore, l’eau minérale revient dès qu’il y a des produits frais ou de base. Cela peut traduire un comportement d’achat “familial” ou “hebdomadaire”.\n",
    "\n",
    " Proposition :\n",
    "\n",
    "Créer un pack “panier frais” : lait + viande + eau. Ces produits peuvent être regroupés en tête de gondole.\n",
    "\n"
   ]
  }
 ],
 "metadata": {
  "kernelspec": {
   "display_name": "Python (myenv)",
   "language": "python",
   "name": "myenv"
  },
  "language_info": {
   "codemirror_mode": {
    "name": "ipython",
    "version": 3
   },
   "file_extension": ".py",
   "mimetype": "text/x-python",
   "name": "python",
   "nbconvert_exporter": "python",
   "pygments_lexer": "ipython3",
   "version": "3.10.16"
  }
 },
 "nbformat": 4,
 "nbformat_minor": 5
}
