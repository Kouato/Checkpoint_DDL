{
 "cells": [
  {
   "cell_type": "code",
   "execution_count": 21,
   "id": "a3bfc7e2-b7d9-4ef6-8072-23b471fa029c",
   "metadata": {},
   "outputs": [
    {
     "name": "stdin",
     "output_type": "stream",
     "text": [
      "Collez l'URL wikipedia :   https://fr.wikipedia.org/wiki/Wikip%C3%A9dia:Accueil_principal\n"
     ]
    },
    {
     "name": "stdout",
     "output_type": "stream",
     "text": [
      "Url valide\n",
      "L'URL saisie a pour titre principal : Bienvenue sur Wikipédia\n",
      "Nous avons ici l'ensemble des liens de redirection :\n",
      "\n",
      "📘 DataFrame contenu :\n",
      "                       Titre Type  \\\n",
      "0    Bienvenue sur Wikipédia   h1   \n",
      "1                  Wikipédia   h2   \n",
      "2  Article labellisé du jour   h2   \n",
      "3                 Actualités   h2   \n",
      "4           Le saviez-vous ?   h2   \n",
      "\n",
      "                                          Paragraphe  \n",
      "0                                                     \n",
      "1     L'encyclopédie libre que vous pouvez améliorer  \n",
      "2  Lavallée des Rouetsest le nom donné à une part...  \n",
      "3                                                     \n",
      "4                                                     \n",
      "\n",
      "🔗 DataFrame liens :\n",
      "                                      Lien_wikipedia\n",
      "0  https://fr.wikipedia.org/wiki/Wikip%C3%A9dia:A...\n",
      "1      https://fr.wikipedia.org/wiki/Portail:Accueil\n",
      "2  https://fr.wikipedia.org/wiki/Sp%C3%A9cial:Pag...\n",
      "3  https://fr.wikipedia.org/wiki/Wikip%C3%A9dia:C...\n",
      "4    https://fr.wikipedia.org/wiki/Aide:D%C3%A9buter\n"
     ]
    }
   ],
   "source": [
    "import requests\n",
    "from bs4 import BeautifulSoup\n",
    "import re\n",
    "import pandas as pd\n",
    "\n",
    "def fonction_scraping():\n",
    "    url = input(\"Collez l'URL wikipedia :  \")\n",
    "    page = requests.get(url)\n",
    "\n",
    "    if page.status_code == 200:\n",
    "        print(\"Url valide\")\n",
    "        contenue = BeautifulSoup(page.content, \"html.parser\")\n",
    "        TitreP = contenue.find(\"h1\")\n",
    "        Titretext = TitreP.text\n",
    "        print(f\"L'URL saisie a pour titre principal : {Titretext}\")\n",
    "\n",
    "        Ensemble = contenue.find_all([\"h1\", \"h2\", \"h3\", \"h4\", \"h5\", \"h6\", \"p\"])\n",
    "        EnsenDico = []\n",
    "        Dico = None\n",
    "\n",
    "        for ensemble in Ensemble:\n",
    "            if ensemble.name.startswith(\"h\"):\n",
    "                Dico = {\n",
    "                    \"Titre\": ensemble.get_text(strip=True),\n",
    "                    \"type\": ensemble.name,\n",
    "                    \"paragraphe\": []\n",
    "                }\n",
    "                EnsenDico.append(Dico)\n",
    "            elif ensemble.name == \"p\" and Dico is not None:\n",
    "                Dico[\"paragraphe\"].append(ensemble.get_text(strip=True))\n",
    "\n",
    "        # Création d’un DataFrame avec titres et paragraphes\n",
    "        data_struct = []\n",
    "        for bloc in EnsenDico:\n",
    "            data_struct.append({\n",
    "                \"Titre\": bloc[\"Titre\"],\n",
    "                \"Type\": bloc[\"type\"],\n",
    "                \"Paragraphe\": \" \".join(bloc[\"paragraphe\"])\n",
    "            })\n",
    "        df_contenu = pd.DataFrame(data_struct)\n",
    "\n",
    "        # Scraping des liens internes\n",
    "        Ensemble_lien = contenue.find_all('a', href=re.compile(\"^/wiki\"))\n",
    "        print(\"Nous avons ici l'ensemble des liens de redirection :\")\n",
    "        Liens = [\"https://fr.wikipedia.org\" + lien[\"href\"] for lien in Ensemble_lien]\n",
    "\n",
    "        df_liens = pd.DataFrame(Liens, columns=[\"Lien_wikipedia\"])\n",
    "\n",
    "        return df_contenu, df_liens\n",
    "\n",
    "    else:\n",
    "        print(\"URL non valide\")\n",
    "        return pd.DataFrame(), pd.DataFrame()\n",
    "\n",
    "# Lancement\n",
    "df_contenu, df_liens = fonction_scraping()\n",
    "\n",
    "print(\"\\n📘 DataFrame contenu :\")\n",
    "print(df_contenu.head())\n",
    "\n",
    "print(\"\\n🔗 DataFrame liens :\")\n",
    "print(df_liens.head())\n"
   ]
  },
  {
   "cell_type": "code",
   "execution_count": null,
   "id": "0b8c2f4a-483f-4229-986e-e85d3c1cf0a6",
   "metadata": {},
   "outputs": [],
   "source": []
  }
 ],
 "metadata": {
  "kernelspec": {
   "display_name": "Python (myenv)",
   "language": "python",
   "name": "myenv"
  },
  "language_info": {
   "codemirror_mode": {
    "name": "ipython",
    "version": 3
   },
   "file_extension": ".py",
   "mimetype": "text/x-python",
   "name": "python",
   "nbconvert_exporter": "python",
   "pygments_lexer": "ipython3",
   "version": "3.10.16"
  }
 },
 "nbformat": 4,
 "nbformat_minor": 5
}
