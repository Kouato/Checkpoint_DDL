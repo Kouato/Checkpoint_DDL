{
 "cells": [
  {
   "cell_type": "markdown",
   "id": "91781d39-40cd-4e49-9f43-29a2288f16a6",
   "metadata": {},
   "source": [
    "# Importation des bibliothèques et creation du tableau \"grades\""
   ]
  },
  {
   "cell_type": "code",
   "execution_count": 1,
   "id": "4bbb75d9-8a0e-46b2-bb2a-87775cafc0d6",
   "metadata": {},
   "outputs": [],
   "source": [
    "import numpy as np\n",
    "\n",
    "grades = np.array([85, 90, 88, 92, 95, 80, 75, 98, 89, 83])"
   ]
  },
  {
   "cell_type": "markdown",
   "id": "abcd07ba-ce9b-498d-a2a0-d4dd09bc8a00",
   "metadata": {},
   "source": [
    "#  Les fonctions numpy pour calculer la moyenne, la médiane et l'écart type des grades."
   ]
  },
  {
   "cell_type": "code",
   "execution_count": 2,
   "id": "20db6f94-4b0d-41d1-8d18-4ac32b62852b",
   "metadata": {},
   "outputs": [
    {
     "name": "stdout",
     "output_type": "stream",
     "text": [
      "La moyenne est de : 87.5 \n",
      "\n",
      "La mediane est de : 88.5 \n",
      "\n",
      " L'ecart type est de 6.591661399070799 \n"
     ]
    }
   ],
   "source": [
    "moyenne = np.mean(grades)\n",
    "print(f\"La moyenne est de : {moyenne} \\n\" )\n",
    "mediane = np.median(grades)\n",
    "print(f\"La mediane est de : {mediane} \\n\")\n",
    "ecart_type = np.std(grades)\n",
    "print(f\" L'ecart type est de {ecart_type} \")\n"
   ]
  },
  {
   "cell_type": "markdown",
   "id": "78d2f218-593f-4967-b747-cba88ad2937c",
   "metadata": {},
   "source": [
    "#  La fonction numpy pour trouver le maximum et le minimum des grades."
   ]
  },
  {
   "cell_type": "code",
   "execution_count": 3,
   "id": "ca58a466-dabe-41f4-afc0-947d4da5473c",
   "metadata": {},
   "outputs": [
    {
     "name": "stdout",
     "output_type": "stream",
     "text": [
      "Le maximum de l'ensemble est de 98 \n",
      "\n",
      "Le minimum de l'ensemble est de 75 \n",
      "\n"
     ]
    }
   ],
   "source": [
    "Max = np.max(grades)\n",
    "print(f\"Le maximum de l'ensemble est de {Max} \\n\")\n",
    "Min = np.min(grades)\n",
    "print(f\"Le minimum de l'ensemble est de {Min} \\n\")"
   ]
  },
  {
   "cell_type": "markdown",
   "id": "40b09ac4-a0b8-41dc-af18-cd40363bdfed",
   "metadata": {},
   "source": [
    "#  La fonction numpy pour trouver l'indice de la note la plus élevée dans le tableau."
   ]
  },
  {
   "cell_type": "code",
   "execution_count": 4,
   "id": "da95aa56-96ec-42bf-9620-5010b15a0634",
   "metadata": {},
   "outputs": [
    {
     "name": "stdout",
     "output_type": "stream",
     "text": [
      "L'indice de la valeur la plus élévé est de 7 \n",
      "\n"
     ]
    }
   ],
   "source": [
    "Index = np.argmax(grades)\n",
    "print(f\"L'indice de la valeur la plus élévé est de {Index} \\n\")"
   ]
  },
  {
   "cell_type": "markdown",
   "id": "49942c24-bfc6-4bf3-9ebd-80095be7a64a",
   "metadata": {},
   "source": [
    "# La fonction numpy pour compter le nombre d'étudiants ayant obtenu une note supérieure à 90."
   ]
  },
  {
   "cell_type": "code",
   "execution_count": 8,
   "id": "da03d247-e651-4339-90c6-0f8b7059ef72",
   "metadata": {},
   "outputs": [
    {
     "name": "stdout",
     "output_type": "stream",
     "text": [
      "Les notes qui sont supérieures à 90 : [92 95 98]\n"
     ]
    }
   ],
   "source": [
    "note_sup_90 = grades[grades>90]\n",
    "print(f\"Les notes qui sont supérieures à 90 : {note_sup_90}\")"
   ]
  },
  {
   "cell_type": "markdown",
   "id": "7bc9fb82-caf1-4e91-92eb-b560f6e49245",
   "metadata": {},
   "source": [
    "# La fonction numpy pour calculer le pourcentage d'étudiants ayant obtenu une note supérieure à 90."
   ]
  },
  {
   "cell_type": "code",
   "execution_count": null,
   "id": "e2f3e861-5594-41e8-8699-92002d6036cd",
   "metadata": {},
   "outputs": [],
   "source": [
    "pour_note_90 = np.mean(grades>90)*100\n",
    "print(f\"le pourcentage des notes supérieures à 90 est de : {pour_note_90}\")"
   ]
  },
  {
   "cell_type": "markdown",
   "id": "e7ea9438-2486-4e79-ac19-237676d58952",
   "metadata": {},
   "source": [
    "# Le tableau appelé \"passing_grades\" qui contient toutes les notes supérieures à 75. "
   ]
  },
  {
   "cell_type": "code",
   "execution_count": 12,
   "id": "27b6a467-6fdf-4711-b8be-444e642ef6af",
   "metadata": {},
   "outputs": [
    {
     "name": "stdout",
     "output_type": "stream",
     "text": [
      "Les notes qui sont supérieurs à 75 sont : [85, 90, 88, 92, 95, 80, 98, 89, 83] \n"
     ]
    }
   ],
   "source": [
    "passing_grades = []\n",
    "\n",
    "for val in grades[grades>75].tolist():\n",
    "    passing_grades.append(val)\n",
    "\n",
    "print (f\"Les notes qui sont supérieurs à 75 sont : {passing_grades} \")"
   ]
  },
  {
   "cell_type": "code",
   "execution_count": null,
   "id": "deb11ed1-106b-4d95-a420-e201720df0c7",
   "metadata": {},
   "outputs": [],
   "source": []
  }
 ],
 "metadata": {
  "kernelspec": {
   "display_name": "Python 3 (ipykernel)",
   "language": "python",
   "name": "python3"
  },
  "language_info": {
   "codemirror_mode": {
    "name": "ipython",
    "version": 3
   },
   "file_extension": ".py",
   "mimetype": "text/x-python",
   "name": "python",
   "nbconvert_exporter": "python",
   "pygments_lexer": "ipython3",
   "version": "3.12.4"
  }
 },
 "nbformat": 4,
 "nbformat_minor": 5
}
