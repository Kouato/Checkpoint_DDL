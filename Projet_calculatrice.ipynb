{
 "cells": [
  {
   "cell_type": "code",
   "execution_count": 48,
   "id": "ef054ee2-0aa2-4d32-91aa-158047b86b09",
   "metadata": {},
   "outputs": [
    {
     "name": "stdout",
     "output_type": "stream",
     "text": [
      "####### CALCULATRICE 2.0 ######\n"
     ]
    },
    {
     "name": "stdin",
     "output_type": "stream",
     "text": [
      " Tapez (1) pour un calcul (2) pour sortir  1\n"
     ]
    },
    {
     "name": "stdout",
     "output_type": "stream",
     "text": [
      "Les fonctions expo , Ln et racine carree ont été ajouté , vous pouvez effectuer des calculs avancés si vous le souhaiter\n"
     ]
    },
    {
     "name": "stdin",
     "output_type": "stream",
     "text": [
      "Entrez votre premier nombre :  15\n",
      "Entrez votre symbole math (+, *, -, /,exp,ln,rc)  exp\n"
     ]
    },
    {
     "name": "stdout",
     "output_type": "stream",
     "text": [
      "Resultat : exp(15.0) est de : 3269017.3724721107 \n"
     ]
    },
    {
     "name": "stdin",
     "output_type": "stream",
     "text": [
      " Tapez (1) pour un calcul (2) pour sortir  2\n"
     ]
    }
   ],
   "source": [
    "import math\n",
    "\n",
    "class Calculator:\n",
    "    def __init__(self):\n",
    "        \n",
    "        self.Diction_Calcul = {\n",
    "            \"+\": self.Add,\n",
    "            \"-\": self.Sous,\n",
    "            \"*\": self.Multi,\n",
    "            \"/\": self.Div\n",
    "        }\n",
    "\n",
    "    def Add(self, a, b):\n",
    "        return a + b\n",
    "\n",
    "    def Sous(self, a, b):\n",
    "        return a - b\n",
    "\n",
    "    def Div(self, a, b):\n",
    "        if b != 0:\n",
    "            return a / b\n",
    "        else:\n",
    "            print(\"Erreur : division par zéro\")\n",
    "\n",
    "    def Multi(self, a, b):\n",
    "        return a * b\n",
    "\n",
    "   \n",
    "\n",
    "    def Add_ops(self, symb, fonction):\n",
    "        self.Diction_Calcul[symb]= fonction\n",
    "        \n",
    "\n",
    "    def Calculate(self,a,symb,b):\n",
    "        \n",
    "            while True :\n",
    "                try:\n",
    "                  a = float(input(\"Entrez votre premier nombre : \"))\n",
    "                  break\n",
    "                except ValueError :\n",
    "                  print(\"Entrée non valide , veillez entrer un nombre \")\n",
    "                \n",
    "            while True :\n",
    "               symb = input(\"Entrez votre symbole math (+, *, -, /,exp,ln,rc) \")\n",
    "               if symb in {\"+\",\"-\",\"*\",\"/\",\"exp\",\"ln\",\"rc\"}:\n",
    "                  break\n",
    "               else :\n",
    "                  print(\"Entrée non valide , entrez les symboles recommandés  \")\n",
    "                   \n",
    "            if symb in {\"+\",\"-\",\"*\",\"/\"} :\n",
    "                 while True :\n",
    "                      try :\n",
    "                        b = float(input(\"Entrez votre second nombre : \"))\n",
    "                        result = self.Diction_Calcul[symb](a, b)\n",
    "                        print(f\"Résultat : {a} {symb} {b} est de : {result}\")\n",
    "                        break\n",
    "                      except :\n",
    "                        print(\"Entrez une valeur correcte \")\n",
    "                          \n",
    "            else :\n",
    "                result = self.Diction_Calcul[symb](a)\n",
    "                print(f\"Resultat : {symb}({a}) est de : {result} \")\n",
    "            \n",
    "\n",
    "\n",
    "\n",
    "operations_avance = {\n",
    "    \"exp\": math.exp,\n",
    "    \"ln\" : lambda x : math.log(x) if x > 0  else \"Erreur ! Entrez une valeur sup à 0 \" ,\n",
    "    \"rc\" : lambda x : math.sqrt(x) if x >= 0  else \"Erreur ! Entrez une valeur sup à 0\"\n",
    "}\n",
    "\n",
    "\n",
    "# Boucle principale\n",
    "calculator = Calculator()\n",
    "print(\"####### CALCULATRICE 2.0 ######\")\n",
    "while True:\n",
    "    \n",
    "    choix = input(\" Tapez (1) pour un calcul (2) pour sortir \")\n",
    "    if choix not in {\"1\",\"2\"}:\n",
    "        print(\"Entrez une valeur correct \")\n",
    "        \n",
    "    elif choix == \"2\" :\n",
    "        break\n",
    "   \n",
    "    elif choix == \"1\":\n",
    "        for symb , fonction in operations_avance.items():\n",
    "            calculator.Add_ops(symb, fonction)\n",
    "        print(f\"Les fonctions expo , Ln et racine carree ont été ajouté , vous pouvez effectuer des calculs avancés si vous le souhaiter\")\n",
    "        calculator.Calculate(a,symb,b)\n",
    "\n"
   ]
  },
  {
   "cell_type": "markdown",
   "id": "8403fa10-294f-4b2a-866b-9d0fd51ecad4",
   "metadata": {},
   "source": []
  },
  {
   "cell_type": "code",
   "execution_count": null,
   "id": "6ce681f6-1e5e-403e-a3f0-5b9a30fbbbfd",
   "metadata": {},
   "outputs": [],
   "source": []
  }
 ],
 "metadata": {
  "kernelspec": {
   "display_name": "Python 3 (ipykernel)",
   "language": "python",
   "name": "python3"
  },
  "language_info": {
   "codemirror_mode": {
    "name": "ipython",
    "version": 3
   },
   "file_extension": ".py",
   "mimetype": "text/x-python",
   "name": "python",
   "nbconvert_exporter": "python",
   "pygments_lexer": "ipython3",
   "version": "3.12.4"
  }
 },
 "nbformat": 4,
 "nbformat_minor": 5
}
