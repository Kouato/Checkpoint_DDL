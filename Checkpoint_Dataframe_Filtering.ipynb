{
 "cells": [
  {
   "cell_type": "code",
   "execution_count": 2,
   "id": "73604c8f-7116-4b5b-9f35-9af135f05e6d",
   "metadata": {},
   "outputs": [],
   "source": [
    "import pandas as pd\n",
    "\n",
    "data = {'Name' : ['John', 'Mary', 'Bob', 'Sarah', 'Tom', 'Lisa'], 'Department' : ['IT', 'Marketing', 'Sales', 'IT', 'Finance', 'Marketing'], 'Age' : [30, 40, 25, 35, 45, 28], \"Sexe\" : ['Homme', 'Femme', 'Homme', 'Femme', 'Homme', 'Femme'], 'Salaire' : [50000, 60000, 45000, 55000, 70000, 55000], 'Expérience' : [3, 7, 2, 5, 10, 4]}\n",
    "\n",
    "employee_df = pd.DataFrame(data)"
   ]
  },
  {
   "cell_type": "markdown",
   "id": "5efda97d-3147-4ee2-86e3-a91eee64cc8c",
   "metadata": {},
   "source": [
    "## Utilisation de la méthode iloc pour sélectionner les 3 premières lignes du dataframe."
   ]
  },
  {
   "cell_type": "code",
   "execution_count": 7,
   "id": "6afa39c3-547a-430d-b680-2171dd892d61",
   "metadata": {},
   "outputs": [
    {
     "data": {
      "text/html": [
       "<div>\n",
       "<style scoped>\n",
       "    .dataframe tbody tr th:only-of-type {\n",
       "        vertical-align: middle;\n",
       "    }\n",
       "\n",
       "    .dataframe tbody tr th {\n",
       "        vertical-align: top;\n",
       "    }\n",
       "\n",
       "    .dataframe thead th {\n",
       "        text-align: right;\n",
       "    }\n",
       "</style>\n",
       "<table border=\"1\" class=\"dataframe\">\n",
       "  <thead>\n",
       "    <tr style=\"text-align: right;\">\n",
       "      <th></th>\n",
       "      <th>Name</th>\n",
       "      <th>Department</th>\n",
       "      <th>Age</th>\n",
       "      <th>Sexe</th>\n",
       "      <th>Salaire</th>\n",
       "      <th>Expérience</th>\n",
       "    </tr>\n",
       "  </thead>\n",
       "  <tbody>\n",
       "    <tr>\n",
       "      <th>0</th>\n",
       "      <td>John</td>\n",
       "      <td>IT</td>\n",
       "      <td>30</td>\n",
       "      <td>Homme</td>\n",
       "      <td>50000</td>\n",
       "      <td>3</td>\n",
       "    </tr>\n",
       "    <tr>\n",
       "      <th>1</th>\n",
       "      <td>Mary</td>\n",
       "      <td>Marketing</td>\n",
       "      <td>40</td>\n",
       "      <td>Femme</td>\n",
       "      <td>60000</td>\n",
       "      <td>7</td>\n",
       "    </tr>\n",
       "    <tr>\n",
       "      <th>2</th>\n",
       "      <td>Bob</td>\n",
       "      <td>Sales</td>\n",
       "      <td>25</td>\n",
       "      <td>Homme</td>\n",
       "      <td>45000</td>\n",
       "      <td>2</td>\n",
       "    </tr>\n",
       "  </tbody>\n",
       "</table>\n",
       "</div>"
      ],
      "text/plain": [
       "   Name Department  Age   Sexe  Salaire  Expérience\n",
       "0  John         IT   30  Homme    50000           3\n",
       "1  Mary  Marketing   40  Femme    60000           7\n",
       "2   Bob      Sales   25  Homme    45000           2"
      ]
     },
     "execution_count": 7,
     "metadata": {},
     "output_type": "execute_result"
    }
   ],
   "source": [
    "employee_df.iloc[0:3,:]"
   ]
  },
  {
   "cell_type": "markdown",
   "id": "08c53c8f-3e44-49ee-bf6c-7b86379dd3e1",
   "metadata": {},
   "source": [
    "## Utilisation de la méthode loc pour sélectionner toutes les lignes où le département est \"Marketing\""
   ]
  },
  {
   "cell_type": "code",
   "execution_count": 13,
   "id": "e6b7abd0-c89d-42ff-9256-cba54a9a1781",
   "metadata": {},
   "outputs": [
    {
     "data": {
      "text/html": [
       "<div>\n",
       "<style scoped>\n",
       "    .dataframe tbody tr th:only-of-type {\n",
       "        vertical-align: middle;\n",
       "    }\n",
       "\n",
       "    .dataframe tbody tr th {\n",
       "        vertical-align: top;\n",
       "    }\n",
       "\n",
       "    .dataframe thead th {\n",
       "        text-align: right;\n",
       "    }\n",
       "</style>\n",
       "<table border=\"1\" class=\"dataframe\">\n",
       "  <thead>\n",
       "    <tr style=\"text-align: right;\">\n",
       "      <th></th>\n",
       "      <th>Name</th>\n",
       "      <th>Department</th>\n",
       "      <th>Age</th>\n",
       "      <th>Sexe</th>\n",
       "      <th>Salaire</th>\n",
       "      <th>Expérience</th>\n",
       "    </tr>\n",
       "  </thead>\n",
       "  <tbody>\n",
       "    <tr>\n",
       "      <th>1</th>\n",
       "      <td>Mary</td>\n",
       "      <td>Marketing</td>\n",
       "      <td>40</td>\n",
       "      <td>Femme</td>\n",
       "      <td>60000</td>\n",
       "      <td>7</td>\n",
       "    </tr>\n",
       "    <tr>\n",
       "      <th>5</th>\n",
       "      <td>Lisa</td>\n",
       "      <td>Marketing</td>\n",
       "      <td>28</td>\n",
       "      <td>Femme</td>\n",
       "      <td>55000</td>\n",
       "      <td>4</td>\n",
       "    </tr>\n",
       "  </tbody>\n",
       "</table>\n",
       "</div>"
      ],
      "text/plain": [
       "   Name Department  Age   Sexe  Salaire  Expérience\n",
       "1  Mary  Marketing   40  Femme    60000           7\n",
       "5  Lisa  Marketing   28  Femme    55000           4"
      ]
     },
     "execution_count": 13,
     "metadata": {},
     "output_type": "execute_result"
    }
   ],
   "source": [
    "employee_df.loc[employee_df[\"Department\"]==\"Marketing\"]"
   ]
  },
  {
   "cell_type": "markdown",
   "id": "9eff94a5-2499-43f4-956c-0e0c9931bf50",
   "metadata": {},
   "source": [
    "## Utilisation de la méthode iloc pour sélectionner les colonnes Age et Sexe pour les 4 premières lignes du dataframe."
   ]
  },
  {
   "cell_type": "code",
   "execution_count": 15,
   "id": "01259999-53d2-42d2-adf8-9968316ab544",
   "metadata": {},
   "outputs": [
    {
     "data": {
      "text/html": [
       "<div>\n",
       "<style scoped>\n",
       "    .dataframe tbody tr th:only-of-type {\n",
       "        vertical-align: middle;\n",
       "    }\n",
       "\n",
       "    .dataframe tbody tr th {\n",
       "        vertical-align: top;\n",
       "    }\n",
       "\n",
       "    .dataframe thead th {\n",
       "        text-align: right;\n",
       "    }\n",
       "</style>\n",
       "<table border=\"1\" class=\"dataframe\">\n",
       "  <thead>\n",
       "    <tr style=\"text-align: right;\">\n",
       "      <th></th>\n",
       "      <th>Age</th>\n",
       "      <th>Sexe</th>\n",
       "    </tr>\n",
       "  </thead>\n",
       "  <tbody>\n",
       "    <tr>\n",
       "      <th>0</th>\n",
       "      <td>30</td>\n",
       "      <td>Homme</td>\n",
       "    </tr>\n",
       "    <tr>\n",
       "      <th>1</th>\n",
       "      <td>40</td>\n",
       "      <td>Femme</td>\n",
       "    </tr>\n",
       "    <tr>\n",
       "      <th>2</th>\n",
       "      <td>25</td>\n",
       "      <td>Homme</td>\n",
       "    </tr>\n",
       "    <tr>\n",
       "      <th>3</th>\n",
       "      <td>35</td>\n",
       "      <td>Femme</td>\n",
       "    </tr>\n",
       "  </tbody>\n",
       "</table>\n",
       "</div>"
      ],
      "text/plain": [
       "   Age   Sexe\n",
       "0   30  Homme\n",
       "1   40  Femme\n",
       "2   25  Homme\n",
       "3   35  Femme"
      ]
     },
     "execution_count": 15,
     "metadata": {},
     "output_type": "execute_result"
    }
   ],
   "source": [
    "employee_df.iloc[0:4,2:4]"
   ]
  },
  {
   "cell_type": "markdown",
   "id": "d2473c42-36e1-4aeb-b529-aa5daab423b2",
   "metadata": {},
   "source": [
    "## Utilisation de la méthode loc pour sélectionner les colonnes Salaire et Expérience pour toutes les lignes dont le sexe est \"Male\"."
   ]
  },
  {
   "cell_type": "code",
   "execution_count": 17,
   "id": "9c381242-39b4-46be-ad33-e70ebe97606c",
   "metadata": {},
   "outputs": [
    {
     "data": {
      "text/html": [
       "<div>\n",
       "<style scoped>\n",
       "    .dataframe tbody tr th:only-of-type {\n",
       "        vertical-align: middle;\n",
       "    }\n",
       "\n",
       "    .dataframe tbody tr th {\n",
       "        vertical-align: top;\n",
       "    }\n",
       "\n",
       "    .dataframe thead th {\n",
       "        text-align: right;\n",
       "    }\n",
       "</style>\n",
       "<table border=\"1\" class=\"dataframe\">\n",
       "  <thead>\n",
       "    <tr style=\"text-align: right;\">\n",
       "      <th></th>\n",
       "      <th>Salaire</th>\n",
       "      <th>Expérience</th>\n",
       "    </tr>\n",
       "  </thead>\n",
       "  <tbody>\n",
       "    <tr>\n",
       "      <th>0</th>\n",
       "      <td>50000</td>\n",
       "      <td>3</td>\n",
       "    </tr>\n",
       "    <tr>\n",
       "      <th>2</th>\n",
       "      <td>45000</td>\n",
       "      <td>2</td>\n",
       "    </tr>\n",
       "    <tr>\n",
       "      <th>4</th>\n",
       "      <td>70000</td>\n",
       "      <td>10</td>\n",
       "    </tr>\n",
       "  </tbody>\n",
       "</table>\n",
       "</div>"
      ],
      "text/plain": [
       "   Salaire  Expérience\n",
       "0    50000           3\n",
       "2    45000           2\n",
       "4    70000          10"
      ]
     },
     "execution_count": 17,
     "metadata": {},
     "output_type": "execute_result"
    }
   ],
   "source": [
    "employee_df.loc[employee_df[\"Sexe\"] == \"Homme\", [\"Salaire\", \"Expérience\"]]"
   ]
  },
  {
   "cell_type": "code",
   "execution_count": null,
   "id": "d89cddc6-a324-429d-8d57-371da681b8e0",
   "metadata": {},
   "outputs": [],
   "source": []
  }
 ],
 "metadata": {
  "kernelspec": {
   "display_name": "Python 3 (ipykernel)",
   "language": "python",
   "name": "python3"
  },
  "language_info": {
   "codemirror_mode": {
    "name": "ipython",
    "version": 3
   },
   "file_extension": ".py",
   "mimetype": "text/x-python",
   "name": "python",
   "nbconvert_exporter": "python",
   "pygments_lexer": "ipython3",
   "version": "3.12.4"
  }
 },
 "nbformat": 4,
 "nbformat_minor": 5
}
